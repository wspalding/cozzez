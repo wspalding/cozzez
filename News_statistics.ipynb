{
  "nbformat": 4,
  "nbformat_minor": 0,
  "metadata": {
    "colab": {
      "name": "News_statistics.ipynb",
      "version": "0.3.2",
      "provenance": [],
      "collapsed_sections": [],
      "include_colab_link": true
    },
    "kernelspec": {
      "name": "python3",
      "display_name": "Python 3"
    }
  },
  "cells": [
    {
      "cell_type": "markdown",
      "metadata": {
        "id": "view-in-github",
        "colab_type": "text"
      },
      "source": [
        "<a href=\"https://colab.research.google.com/github/wspalding/cozzez/blob/master/News_statistics.ipynb\" target=\"_parent\"><img src=\"https://colab.research.google.com/assets/colab-badge.svg\" alt=\"Open In Colab\"/></a>"
      ]
    },
    {
      "cell_type": "markdown",
      "metadata": {
        "id": "XpOXbSuQwnK8",
        "colab_type": "text"
      },
      "source": [
        "# Collect News Stories"
      ]
    },
    {
      "cell_type": "code",
      "metadata": {
        "id": "RPSA5GT6wsiR",
        "colab_type": "code",
        "colab": {}
      },
      "source": [
        "%%capture\n",
        "!pip install mechanicalsoup"
      ],
      "execution_count": 0,
      "outputs": []
    },
    {
      "cell_type": "code",
      "metadata": {
        "id": "z03pdKYWzCLY",
        "colab_type": "code",
        "colab": {}
      },
      "source": [
        "import mechanicalsoup as msoup\n",
        "browser = msoup.StatefulBrowser()"
      ],
      "execution_count": 0,
      "outputs": []
    },
    {
      "cell_type": "markdown",
      "metadata": {
        "id": "jSMHqCSX5j7n",
        "colab_type": "text"
      },
      "source": [
        "## MSNBC"
      ]
    },
    {
      "cell_type": "code",
      "metadata": {
        "id": "sTiFCLDV5mZA",
        "colab_type": "code",
        "colab": {
          "base_uri": "https://localhost:8080/",
          "height": 34
        },
        "outputId": "b99509de-0d95-4d8d-a50d-43a2708f7db2"
      },
      "source": [
        "browser.open(\"https://www.msnbc.com/\")\n",
        "page = browser.get_current_page()\n",
        "urls = []\n",
        "#print(len(articles))\n",
        "#all -> div.id = content\n",
        "#top story = section2 -> a.href\n",
        "#seconday story = section3 -> article -> a.href\n",
        "#third set story = section4 -> article -> a.href\n",
        "#fourth & fifth = section5 -> a.href\n",
        "#sixth = section 6 -> ul -> li -> h2 -> a.href\n",
        "#vids = section7 -> video\n",
        "content = page.find_all('div', {'id': 'content'})\n",
        "#urls.append(len(content))\n",
        "for cont in content:\n",
        "    #secs = cont.find_all('section')\n",
        "    #url.append(secs)\n",
        "    for sec in cont.find_all('section'):\n",
        "        for a in sec.find_all('a'):\n",
        "            urls.append(a.attrs.get('href', None))\n",
        "        for ul in sec.find_all('ul'):\n",
        "            for li in ul.find_all('li'):\n",
        "                for h2 in li.find_all('h2'):\n",
        "                    for a in h2.find_all('a'):\n",
        "                        urls.append(a.attrs.get('href', None))\n",
        "        for h3 in sec.find_all('h3'):\n",
        "            for a in h3.find_all('a'):\n",
        "                urls.append(a.attrs.get('href', None))\n",
        "        for article in sec.find_all('article'):\n",
        "            for a in article.find_all('a'):\n",
        "                urls.append(a.attrs.get('href', None))\n",
        "    \n",
        "    #print(url)\n",
        "urls = set(i for i in urls if not any(i in s for s in urls if i != s))\n",
        "urls = set(i for i in urls if (i.startswith(\"https://www.msnbc.com\") or i.startswith(\"https://www.nbcnews.com\")))\n",
        "\n",
        "urls = [i for i in urls if i.count(\"/\") >=5]\n",
        "print(len(urls))"
      ],
      "execution_count": 11,
      "outputs": [
        {
          "output_type": "stream",
          "text": [
            "112\n"
          ],
          "name": "stdout"
        }
      ]
    },
    {
      "cell_type": "code",
      "metadata": {
        "id": "xzbGLVTw6uNv",
        "colab_type": "code",
        "colab": {}
      },
      "source": [
        ""
      ],
      "execution_count": 0,
      "outputs": []
    }
  ]
}